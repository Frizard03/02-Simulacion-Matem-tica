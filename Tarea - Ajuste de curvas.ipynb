{
 "cells": [
  {
   "cell_type": "markdown",
   "metadata": {},
   "source": [
    "# Tarea - Ajuste de curvas"
   ]
  },
  {
   "cell_type": "code",
   "execution_count": 16,
   "metadata": {},
   "outputs": [],
   "source": [
    "import numpy as np\n",
    "import pandas as pd\n",
    "import matplotlib.pyplot as plt\n",
    "%matplotlib inline\n",
    "import scipy.optimize as opt"
   ]
  },
  {
   "cell_type": "markdown",
   "metadata": {},
   "source": [
    "---\n",
    "### Problema 1\n",
    "\n",
    "Los siguientes datos representan el costo en dólares de la electricidad según Western Electricity Coordinating Council desde el 2014 (y su pronóstico para el 2040)\n",
    "\n",
    "Tomado de:\n",
    "https://www.quandl.com/data/EIA/AEO_2016_REF_NO_CPP_PRCE_NA_COMM_NA_ELC_NA_WECCRKS_NCNTPKWH_A-Electricity-End-Use-Prices-Commercial-Western-Electricity-Coordinating-Council-Rockies-No-CPP-AEO2016"
   ]
  },
  {
   "cell_type": "code",
   "execution_count": 35,
   "metadata": {},
   "outputs": [],
   "source": [
    "import numpy as np\n",
    "# Datos extraidos de la página de quandl\n",
    "data = np.array([10.051101,  9.259127,  9.444813,  9.557723,  9.977324, 10.298326,\n",
    "       10.447217, 10.550506, 10.590784, 10.657418, 10.743085, 10.831965,\n",
    "       10.988435, 11.153055, 11.313326, 11.557165, 11.860136, 12.122511,\n",
    "       12.356448, 12.611391, 12.814569, 13.111372, 13.357134, 13.559012,\n",
    "       13.85861 , 14.135924, 14.436149])"
   ]
  },
  {
   "cell_type": "markdown",
   "metadata": {},
   "source": [
    "1. Ajuste estos datos a polinomios de grado 1 hasta 3 (los datos en $x$ corresponden a los años de 2014 a 2040, sin embargo son valores muy grandes para elevarlos a una potencia, use una representación para estos años, por ejemplo $2014 \\rightarrow 0$ y $2040\\rightarrow 26$).\n",
    "\n",
    "2. Muestre las tres curvas ajustadas junto a los datos de los costos en un solo gráfico"
   ]
  },
  {
   "cell_type": "code",
   "execution_count": 36,
   "metadata": {},
   "outputs": [
    {
     "data": {
      "image/png": "[encoded data removed]",
      "text/plain": [
       "<Figure size 432x288 with 1 Axes>"
      ]
     },
     "metadata": {
      "needs_background": "light"
     },
     "output_type": "display_data"
    }
   ],
   "source": [
    "x = np.linspace(0,26,len(data))\n",
    "\n",
    "plt.figure()\n",
    "plt.scatter(x, data)\n",
    "plt.grid()"
   ]
  },
  {
   "cell_type": "code",
   "execution_count": 43,
   "metadata": {},
   "outputs": [],
   "source": [
    "def funcion_de_costo(beta, X, y, size):\n",
    "    beta = np.reshape(beta, [size, -1])\n",
    "    pred = X @ beta\n",
    "    costo = (y - pred).T @ (y-pred)\n",
    "    return costo [0][0]\n",
    "\n",
    "# Matriz X \n",
    "ones = np.ones([len(data),1])\n",
    "\n",
    "x_1 =np.reshape(x, [len(data), -1])\n",
    "x_2 = np.reshape(x**2,[len(data), -1])\n",
    "x_3 = np.reshape(x**3,[len(data), -1])\n",
    "\n",
    "x1 = np.hstack((ones, x_1))\n",
    "x2 = np.hstack((ones, x_1, x_2))\n",
    "x3 = np.hstack((ones, x_1, x_2, x_3))\n",
    "\n",
    "# Beta\n",
    "beta_inicial_1 = np.random.rand(2)\n",
    "beta_inicial_2 = np.random.rand(3)\n",
    "beta_inicial_3 = np.random.rand(4)\n",
    "\n",
    "y = np.reshape(data, [len(data), -1])"
   ]
  },
  {
   "cell_type": "code",
   "execution_count": 45,
   "metadata": {},
   "outputs": [
    {
     "name": "stdout",
     "output_type": "stream",
     "text": [
      "Grado 1:  574.8144362638454\n",
      "Grado 2:  998811.759833757\n",
      "Grado 3:  11573229.217711534\n"
     ]
    }
   ],
   "source": [
    "print(\"Grado 1: \", funcion_de_costo(beta_inicial_1, x1, y, 2))\n",
    "print(\"Grado 2: \", funcion_de_costo(beta_inicial_2, x2, y, 3))\n",
    "print(\"Grado 3: \", funcion_de_costo(beta_inicial_3, x3, y, 4))"
   ]
  },
  {
   "cell_type": "code",
   "execution_count": 47,
   "metadata": {},
   "outputs": [
    {
     "data": {
      "text/plain": [
       "      fun: 2.370488951817527\n",
       " hess_inv: array([[ 0.07010583, -0.00396825],\n",
       "       [-0.00396825,  0.00030525]])\n",
       "      jac: array([4.73856926e-06, 5.00679016e-06])\n",
       "  message: 'Optimization terminated successfully.'\n",
       "     nfev: 18\n",
       "      nit: 4\n",
       "     njev: 6\n",
       "   status: 0\n",
       "  success: True\n",
       "        x: array([9.11567664, 0.18667054])"
      ]
     },
     "execution_count": 47,
     "metadata": {},
     "output_type": "execute_result"
    }
   ],
   "source": [
    "sol1 = opt.minimize(funcion_de_costo, beta_inicial_1, args = (x1, y, 2))\n",
    "sol1"
   ]
  },
  {
   "cell_type": "code",
   "execution_count": 49,
   "metadata": {},
   "outputs": [
    {
     "data": {
      "text/plain": [
       "      fun: 0.8443845175948685\n",
       " hess_inv: array([[ 1.44240179e-01, -2.17591872e-02,  6.84214706e-04],\n",
       "       [-2.17591872e-02,  4.57487974e-03, -1.64208978e-04],\n",
       "       [ 6.84214706e-04, -1.64208978e-04,  6.31557690e-06]])\n",
       "      jac: array([0.00032651, 0.00458233, 0.09914063])\n",
       "  message: 'Desired error not necessarily achieved due to precision loss.'\n",
       "     nfev: 199\n",
       "      nit: 9\n",
       "     njev: 47\n",
       "   status: 2\n",
       "  success: False\n",
       "        x: array([9.59130167e+00, 7.25217065e-02, 4.39034430e-03])"
      ]
     },
     "execution_count": 49,
     "metadata": {},
     "output_type": "execute_result"
    }
   ],
   "source": [
    "sol2 = opt.minimize(funcion_de_costo, beta_inicial_2, args = (x2, y, 3))\n",
    "sol2"
   ]
  },
  {
   "cell_type": "code",
   "execution_count": 51,
   "metadata": {},
   "outputs": [
    {
     "data": {
      "text/plain": [
       "      fun: 0.8404346755224521\n",
       " hess_inv: array([[ 2.27239559e-01, -6.41154298e-02,  4.83488418e-03,\n",
       "        -1.06428268e-04],\n",
       "       [-6.41154298e-02,  2.61882152e-02, -2.28212613e-03,\n",
       "         5.43057056e-05],\n",
       "       [ 4.83488418e-03, -2.28212613e-03,  2.13850645e-04,\n",
       "        -5.32141336e-06],\n",
       "       [-1.06428268e-04,  5.43057056e-05, -5.32141336e-06,\n",
       "         1.36446496e-07]])\n",
       "      jac: array([-5.36441803e-07, -7.00354576e-07,  1.19209290e-07, -1.19209290e-07])\n",
       "  message: 'Optimization terminated successfully.'\n",
       "     nfev: 45\n",
       "      nit: 5\n",
       "     njev: 9\n",
       "   status: 0\n",
       "  success: True\n",
       "        x: array([9.56752291e+00, 8.46495990e-02, 3.20207345e-03, 3.04659875e-05])"
      ]
     },
     "execution_count": 51,
     "metadata": {},
     "output_type": "execute_result"
    }
   ],
   "source": [
    "sol3 = opt.minimize(funcion_de_costo, beta_inicial_3, args = (x3, y, 4))\n",
    "sol3"
   ]
  },
  {
   "cell_type": "code",
   "execution_count": 53,
   "metadata": {},
   "outputs": [
    {
     "data": {
      "image/png": "[encoded data removed]",
      "text/plain": [
       "<Figure size 432x288 with 1 Axes>"
      ]
     },
     "metadata": {
      "needs_background": "light"
     },
     "output_type": "display_data"
    }
   ],
   "source": [
    "y_pred_1 = 9.115676 + 0.186670 * x\n",
    "y_pred_2 = 9.59130167e+00 + 7.25217065e-02*x +  4.39034430e-03 * x**2\n",
    "y_pred_3 = 9.56752291e+00 + 8.46495990e-02*x + 3.20207345e-03 * x**2 +  + 3.04659875e-05* x**3\n",
    "\n",
    "plt.figure()\n",
    "plt.scatter(x,data)\n",
    "plt.plot(x, y_pred_1, \"r\", label = \"Grado 1\")\n",
    "plt.plot(x, y_pred_2, \"g\", label = \"Grado 2\")\n",
    "plt.plot(x, y_pred_3, \"b\", label = \"Grado 3\")\n",
    "plt.legend()\n",
    "plt.grid()"
   ]
  },
  {
   "cell_type": "markdown",
   "metadata": {},
   "source": [
    "---"
   ]
  },
  {
   "cell_type": "markdown",
   "metadata": {},
   "source": [
    "___\n",
    "### Problema 2\n",
    "\n",
    "El archivo `population_data.csv` contiene información histórica anual de México relativa a la población, nacimientos y muertes desde el año 1950 hasta el año 2015. La primer columna corresponde a los años, la segunda a la población, la tercera a los nacimientos y la última a los decesos.\n",
    "\n",
    "Tomado de: https://en.wikipedia.org/wiki/Demographics_of_Mexico.\n",
    "\n",
    "Importe estos datos usando la función `read_csv` del paquete `pandas`\n",
    "\n",
    "1. Usando los años como variable independiente $x$ y la población como variable dependiente $y$, ajustar polinomios de grado 1 hasta grado 3.\n",
    "\n",
    "    * Mostrar en un solo gráfico los datos de población contra los años, y los polinomios ajustados.\n",
    "\n",
    "    * Graficar el error cuadrático acumulado contra el número de términos.\n",
    "\n",
    "2. Repetir el punto 1 usando los nacimientos como variable dependiente $y$. Grafique las curvas ajustadas junto con los datos de nacimientos. Vea en un gráfico el error acumulado."
   ]
  },
  {
   "cell_type": "markdown",
   "metadata": {},
   "source": [
    "---"
   ]
  },
  {
   "cell_type": "code",
   "execution_count": null,
   "metadata": {},
   "outputs": [],
   "source": []
  },
  {
   "cell_type": "code",
   "execution_count": null,
   "metadata": {},
   "outputs": [],
   "source": []
  },
  {
   "cell_type": "code",
   "execution_count": null,
   "metadata": {},
   "outputs": [],
   "source": []
  },
  {
   "cell_type": "code",
   "execution_count": null,
   "metadata": {},
   "outputs": [],
   "source": []
  }
 ],
 "metadata": {
  "kernelspec": {
   "display_name": "Python 3 (ipykernel)",
   "language": "python",
   "name": "python3"
  },
  "language_info": {
   "codemirror_mode": {
    "name": "ipython",
    "version": 3
   },
   "file_extension": ".py",
   "mimetype": "text/x-python",
   "name": "python",
   "nbconvert_exporter": "python",
   "pygments_lexer": "ipython3",
   "version": "3.9.12"
  }
 },
 "nbformat": 4,
 "nbformat_minor": 2
}
